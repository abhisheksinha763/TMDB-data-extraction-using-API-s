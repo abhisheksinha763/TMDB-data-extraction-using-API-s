{
 "cells": [
  {
   "cell_type": "markdown",
   "id": "9c34e3f0",
   "metadata": {},
   "source": [
    "For this project, I am using the TMDb (The Movie Database) API. TMDB API enables us to find out the latest information about TV Shows, Movies and the biggest names in entertainment sector for a marvelous and fun TV/Movie watching experience.\n",
    "By collecting the data using TMDb API one can recommend TV Shows, Movies and all sorts of entertainment on the basis of user’s affinity to specific genres, actors, likes and dislikes. We can find details about upcoming TV Shows and Movies.\n",
    "We can find what is the most popular and/ or exclusive/new content at a given time."
   ]
  },
  {
   "cell_type": "markdown",
   "id": "db179103",
   "metadata": {},
   "source": [
    "#### Fetch the top 10 rated english movies in the US region using the TMDb API.  Also print their genres."
   ]
  },
  {
   "cell_type": "code",
   "execution_count": 1,
   "id": "2b655ea6",
   "metadata": {},
   "outputs": [
    {
     "name": "stdout",
     "output_type": "stream",
     "text": [
      "The Godfather - Drama, Crime, \n",
      "The Shawshank Redemption - Drama, Crime, \n",
      "The Boy, the Mole, the Fox and the Horse - Animation, Family, Adventure, Fantasy, \n",
      "The Godfather Part II - Drama, Crime, \n",
      "Schindler's List - Drama, History, War, \n",
      "12 Angry Men - Drama, \n",
      "The Green Mile - Fantasy, Drama, Crime, \n",
      "The Dark Knight - Drama, Action, Crime, Thriller, \n",
      "Puss in Boots: The Last Wish - Animation, Adventure, Comedy, Family, Fantasy, \n",
      "Pulp Fiction - Thriller, Crime, \n"
     ]
    }
   ],
   "source": [
    "import requests\n",
    "res = requests.get('https://api.themoviedb.org/3/genre/movie/list',params = {'api_key':'176a32639b653e521611611925965076','language':'en','region':'US'})\n",
    "d = res.json()\n",
    "dic = {}\n",
    "for i in d['genres']:\n",
    "    dic[i['id']] = i['name']\n",
    "\n",
    "response = requests.get('https://api.themoviedb.org/3/movie/top_rated',params = {'api_key':'176a32639b653e521611611925965076','language':'en','region':'US'})\n",
    "data = response.json()\n",
    "i = 0\n",
    "p = 0\n",
    "while i < 10:\n",
    "    if(data['results'][p]['original_language'] == 'en'):\n",
    "        print(data['results'][p]['title'],\"-\",end = \" \")\n",
    "        k = len(data['results'][p]['genre_ids'])\n",
    "        j = 0\n",
    "        for j in range(k):\n",
    "            print(dic[data['results'][p]['genre_ids'][j]],end = \", \")\n",
    "        print()\n",
    "        i+=1\n",
    "    p+=1\n",
    "        "
   ]
  },
  {
   "cell_type": "markdown",
   "id": "76c0dd87",
   "metadata": {},
   "source": [
    "####  The name and birthplace of the present most popular person according to TMDb API."
   ]
  },
  {
   "cell_type": "code",
   "execution_count": 2,
   "id": "69f9d19d",
   "metadata": {},
   "outputs": [
    {
     "name": "stdout",
     "output_type": "stream",
     "text": [
      "75341\n",
      "Gary Coleman - Coachella Valley, Palm Desert, California, USA\n"
     ]
    }
   ],
   "source": [
    "import requests\n",
    "response = requests.get('https://api.themoviedb.org/3/person/popular',params = {'api_key':'176a32639b653e521611611925965076'})\n",
    "data = response.json()\n",
    "\n",
    "res = requests.get('https://api.themoviedb.org/3/person/974169',params = {'api_key':'176a32639b653e521611611925965076'})\n",
    "d = res.json()\n",
    "d['place_of_birth']\n",
    "\n",
    "print(data['results'][0]['id'])\n",
    "print(data['results'][0]['name'],\"-\",d['place_of_birth'])"
   ]
  },
  {
   "cell_type": "markdown",
   "id": "1df8b929",
   "metadata": {},
   "source": [
    "#### Fetching the overview of the any TV Show (let's say \"FRIENDS\" using TMDb API)"
   ]
  },
  {
   "cell_type": "code",
   "execution_count": 3,
   "id": "2eb818b1",
   "metadata": {},
   "outputs": [
    {
     "name": "stdout",
     "output_type": "stream",
     "text": [
      "Six young people from New York City, on their own and struggling to survive in the real world, find the companionship, comfort and support they get from each other to be the perfect antidote to the pressures of life.\n",
      "Friends is a short-lived kids-oriented drama that aired in the spring of 1979. The series, which was produced by Aaron Spelling and aired on ABC, starred Charlie Aiken, Jill Whelan, and Jarrod Johnson as three Southern Californian 11-year-olds. Karen Morrow also appeared. Only five one-hour episodes were produced before the series was cancelled.\n",
      "\n"
     ]
    }
   ],
   "source": [
    "import requests\n",
    "response = requests.get('https://api.themoviedb.org/3/search/tv',params = {'api_key':'176a32639b653e521611611925965076','query':'FRIENDS'})\n",
    "data = response.json()\n",
    "for i in data['results']:\n",
    "    if i['original_name'] == 'Friends':\n",
    "        print(i['overview'])"
   ]
  },
  {
   "cell_type": "markdown",
   "id": "a26eedbc",
   "metadata": {},
   "source": [
    "#### Fetch the trending TV Shows for the week from the TMDb API and print the taglines of the top 5 shows if there is no tagline print empty."
   ]
  },
  {
   "cell_type": "code",
   "execution_count": 4,
   "id": "e58f9484",
   "metadata": {},
   "outputs": [
    {
     "name": "stdout",
     "output_type": "stream",
     "text": [
      "When you're lost in the darkness, look for the light.\n",
      "Empty\n",
      "Empty\n",
      "A bloody good time.\n",
      "The final run.\n"
     ]
    }
   ],
   "source": [
    "import requests\n",
    "res = requests.get('https://api.themoviedb.org/3/trending/tv/week',params={'api_key':'176a32639b653e521611611925965076'}) \n",
    "data=res.json()\n",
    "id=[]\n",
    "for i in data['results'][:5]:\n",
    "    id.append(i['id'])\n",
    "\n",
    "for i in id:\n",
    "    res = requests.get(f'https://api.themoviedb.org/3/tv/{i}',params={'api_key':'176a32639b653e521611611925965076'}) \n",
    "    data=res.json()\n",
    "    #print(data['tagline'])\n",
    "    if data['tagline'] == '':\n",
    "        print('Empty')\n",
    "    else:\n",
    "        print(data['tagline'])\n"
   ]
  },
  {
   "cell_type": "markdown",
   "id": "52203268",
   "metadata": {},
   "source": [
    "#### The names of all the TV shows to be aired today whose original language is english"
   ]
  },
  {
   "cell_type": "markdown",
   "id": "0ab085a1",
   "metadata": {},
   "source": [
    "The list of TV show airing today will be different everyday and whenever we want this list we can call below code"
   ]
  },
  {
   "cell_type": "code",
   "execution_count": 5,
   "id": "939c34cd",
   "metadata": {},
   "outputs": [
    {
     "name": "stdout",
     "output_type": "stream",
     "text": [
      "Love Island\n",
      "Naked News\n",
      "Match of the Day\n",
      "RWBY\n",
      "Marvel's Moon Girl and Devil Dinosaur\n",
      "America's Test Kitchen\n",
      "Casualty\n",
      "Austin City Limits\n",
      "The Incredible Dr. Pol\n",
      "The Kitchen\n",
      "WWE's The Bump\n",
      "PBS News Weekend\n",
      "The Masked Singer\n",
      "On Patrol: Live\n",
      "Pointless Celebrities\n",
      "The Try Guys\n",
      "On Patrol: First Shift\n",
      "Masters of Illusion\n",
      "Hamster & Gretel\n",
      "Murder Drones\n",
      "Saturday Kitchen\n",
      "Guy's Ranch Kitchen\n",
      "Celebrity Mastermind\n",
      "Love & Marriage: DC\n",
      "Earth Odyssey with Dylan Dreyer\n",
      "Family Dinner\n",
      "WWE The SmackDown LowDown\n",
      "The John Bishop Show\n",
      "Michael McIntyre's Big Show\n",
      "Night of the Improv\n",
      "Ainsley's Fantastic Flavours\n",
      "BOSAI: Science that Can Save Your Life\n",
      "Family Group\n",
      "Bettany Hughes' Treasures of the World\n",
      "WOW - Women of Wrestling\n",
      "Lonely Connections\n",
      "The Saturday Show With Jonathan Capehart\n",
      "Championship Wrestling from Memphis\n"
     ]
    }
   ],
   "source": [
    "import requests\n",
    "response = requests.get('https://api.themoviedb.org/3/tv/airing_today',params = {'api_key':'176a32639b653e521611611925965076'})\n",
    "data = response.json()\n",
    "total_pages = data['total_pages']\n",
    "\n",
    "for i in range(1,total_pages+1):\n",
    "    res = requests.get('https://api.themoviedb.org/3/tv/airing_today',params={'api_key':'176a32639b653e521611611925965076','page':i}) \n",
    "    data=res.json()\n",
    "    for j in data['results']:\n",
    "        if j['original_language']=='en':\n",
    "            print(j['name'])\n"
   ]
  },
  {
   "cell_type": "markdown",
   "id": "2f806376",
   "metadata": {},
   "source": [
    "#### Find the vote count and vote average of any movie(let's say 3 idiots)"
   ]
  },
  {
   "cell_type": "code",
   "execution_count": 7,
   "id": "0d629da0",
   "metadata": {},
   "outputs": [
    {
     "name": "stdout",
     "output_type": "stream",
     "text": [
      "Vote Count : 2025\n",
      "Vote Average : 7.978\n"
     ]
    }
   ],
   "source": [
    "import requests\n",
    "response = requests.get('https://api.themoviedb.org/3/search/movie',params = {'api_key':'176a32639b653e521611611925965076','query':'3 Idiots'})\n",
    "data = response.json()\n",
    "print(\"Vote Count :\",data['results'][0]['vote_count'])\n",
    "print(\"Vote Average :\",data['results'][0]['vote_average'])"
   ]
  },
  {
   "cell_type": "markdown",
   "id": "9cdaceb7",
   "metadata": {},
   "source": [
    "#### The names of top 5 similar movies to any movie(let's say Inception)"
   ]
  },
  {
   "cell_type": "code",
   "execution_count": 8,
   "id": "7a9c04bd",
   "metadata": {},
   "outputs": [
    {
     "ename": "IndexError",
     "evalue": "list index out of range",
     "output_type": "error",
     "traceback": [
      "\u001b[1;31m---------------------------------------------------------------------------\u001b[0m",
      "\u001b[1;31mIndexError\u001b[0m                                Traceback (most recent call last)",
      "Input \u001b[1;32mIn [8]\u001b[0m, in \u001b[0;36m<cell line: 4>\u001b[1;34m()\u001b[0m\n\u001b[0;32m      3\u001b[0m data \u001b[38;5;241m=\u001b[39m response\u001b[38;5;241m.\u001b[39mjson()\n\u001b[0;32m      4\u001b[0m \u001b[38;5;28;01mfor\u001b[39;00m i \u001b[38;5;129;01min\u001b[39;00m \u001b[38;5;28mrange\u001b[39m(\u001b[38;5;241m5\u001b[39m):\n\u001b[1;32m----> 5\u001b[0m     \u001b[38;5;28mprint\u001b[39m(\u001b[43mdata\u001b[49m\u001b[43m[\u001b[49m\u001b[38;5;124;43m'\u001b[39;49m\u001b[38;5;124;43mresults\u001b[39;49m\u001b[38;5;124;43m'\u001b[39;49m\u001b[43m]\u001b[49m\u001b[43m[\u001b[49m\u001b[43mi\u001b[49m\u001b[43m]\u001b[49m[\u001b[38;5;124m'\u001b[39m\u001b[38;5;124mtitle\u001b[39m\u001b[38;5;124m'\u001b[39m])\n",
      "\u001b[1;31mIndexError\u001b[0m: list index out of range"
     ]
    }
   ],
   "source": [
    "import requests\n",
    "response = requests.get('https://api.themoviedb.org/3/movie/846190/similar',params = {'api_key':'176a32639b653e521611611925965076'})\n",
    "data = response.json()\n",
    "for i in range(5):\n",
    "    print(data['results'][i]['title'])\n"
   ]
  },
  {
   "cell_type": "markdown",
   "id": "26f51da1",
   "metadata": {},
   "source": [
    "####  Find company id of marvel studios"
   ]
  },
  {
   "cell_type": "code",
   "execution_count": 10,
   "id": "0fffc3ec",
   "metadata": {},
   "outputs": [
    {
     "name": "stdout",
     "output_type": "stream",
     "text": [
      "420\n"
     ]
    }
   ],
   "source": [
    "import requests\n",
    "response = requests.get('https://api.themoviedb.org/3/search/company',params = {'api_key':'176a32639b653e521611611925965076','query':'Marvel Studios'})\n",
    "data = response.json()\n",
    "print(data['results'][0]['id'])"
   ]
  },
  {
   "cell_type": "markdown",
   "id": "ced5ad7e",
   "metadata": {},
   "source": [
    "#### Fetch the Instagram and Twitter handle of any Indian Actress (let's say Alia bhatt)"
   ]
  },
  {
   "cell_type": "code",
   "execution_count": 11,
   "id": "2ae29786",
   "metadata": {},
   "outputs": [
    {
     "name": "stdout",
     "output_type": "stream",
     "text": [
      "aliaabhatt Aliaa08\n"
     ]
    }
   ],
   "source": [
    "import requests\n",
    "response = requests.get('https://api.themoviedb.org/3/person/1108120/external_ids',params = {'api_key':'176a32639b653e521611611925965076','query':'Marvel Studios'})\n",
    "data = response.json()\n",
    "print(data['instagram_id'],data['twitter_id'])"
   ]
  },
  {
   "cell_type": "markdown",
   "id": "6625c970",
   "metadata": {},
   "source": [
    "#### The names of the character played by Tom Cruise in the movies:\n",
    "Top Gun, \n",
    "Mission: Impossible - Fallout, \n",
    "Minority Report, \n",
    "Edge of Tomorrow"
   ]
  },
  {
   "cell_type": "code",
   "execution_count": 12,
   "id": "1f9910ff",
   "metadata": {},
   "outputs": [
    {
     "name": "stdout",
     "output_type": "stream",
     "text": [
      "Lt. Pete 'Maverick' Mitchell\n",
      "Ethan Hunt\n",
      "Chief John Anderton\n",
      "Maj. William 'Bill' Cage\n"
     ]
    }
   ],
   "source": [
    "import requests\n",
    "res = requests.get('https://api.themoviedb.org/3/search/person',params = {'api_key':'176a32639b653e521611611925965076','query':''})\n",
    "d = res.json()\n",
    "response = requests.get('https://api.themoviedb.org/3/person/500/movie_credits',params = {'api_key':'176a32639b653e521611611925965076'})\n",
    "data = response.json()\n",
    "for i in data['cast']:\n",
    "    if i['title']=='Top Gun':\n",
    "        print(i['character'])\n",
    "        break\n",
    "for i in data['cast']:\n",
    "    if i['title']=='Mission: Impossible - Fallout': \n",
    "        print(i['character'])\n",
    "        break\n",
    "for i in data['cast']:\n",
    "    if i['title']=='Minority Report': \n",
    "        print(i['character'])\n",
    "        break\n",
    "for i in data['cast']:\n",
    "    if i['title']=='Edge of Tomorrow': \n",
    "        print(i['character'])\n",
    "        break\n"
   ]
  },
  {
   "cell_type": "markdown",
   "id": "bc9f8a03",
   "metadata": {},
   "source": [
    "#### Count the number of males and females in the cast of \"Money Heist\" using the TMDb API."
   ]
  },
  {
   "cell_type": "code",
   "execution_count": 13,
   "id": "9d4c9695",
   "metadata": {},
   "outputs": [
    {
     "name": "stdout",
     "output_type": "stream",
     "text": [
      "10 5\n"
     ]
    }
   ],
   "source": [
    "import requests\n",
    "response = requests.get('https://api.themoviedb.org/3/search/tv',params = {'api_key':'176a32639b653e521611611925965076','query':'Money Heist'})\n",
    "data = response.json()\n",
    "ID = data['results'][0]['id']\n",
    "response = requests.get(f'https://api.themoviedb.org/3/tv/{ID}/credits',params = {'api_key':'176a32639b653e521611611925965076','query':'Money Heist'})\n",
    "data = response.json()\n",
    "male_count = 0\n",
    "female_count = 0\n",
    "for i in data['cast']:\n",
    "    if(i['gender'] == 1):\n",
    "        female_count +=1\n",
    "    elif(i['gender'] == 2):\n",
    "        male_count += 1\n",
    "print(male_count,female_count)"
   ]
  },
  {
   "cell_type": "markdown",
   "id": "123bbfb3",
   "metadata": {},
   "source": [
    "#### fetching TV shows by episode number\n",
    "Fetch the name and air date of S06E05 of the TV Show 'The Big Bang Theory' from TMDb API."
   ]
  },
  {
   "cell_type": "code",
   "execution_count": 14,
   "id": "18a07af4",
   "metadata": {},
   "outputs": [
    {
     "name": "stdout",
     "output_type": "stream",
     "text": [
      "The Holographic Excitation - 2012-10-25\n"
     ]
    }
   ],
   "source": [
    "import requests\n",
    "res = requests.get('https://api.themoviedb.org/3/search/tv',params = {'api_key':'176a32639b653e521611611925965076','query':'The Big Bang Theory'})\n",
    "d = res.json()\n",
    "ID = d['results'][0]['id']\n",
    "response = requests.get('https://api.themoviedb.org/3/tv/1418/season/6',params = {'api_key':'176a32639b653e521611611925965076'})\n",
    "data = response.json()\n",
    "for i in data['episodes']:\n",
    "    if(i['episode_number'] == 5):\n",
    "        print(i['name'],'-',i['air_date'])"
   ]
  },
  {
   "cell_type": "code",
   "execution_count": null,
   "id": "9542ebe3",
   "metadata": {},
   "outputs": [],
   "source": []
  }
 ],
 "metadata": {
  "kernelspec": {
   "display_name": "Python 3 (ipykernel)",
   "language": "python",
   "name": "python3"
  },
  "language_info": {
   "codemirror_mode": {
    "name": "ipython",
    "version": 3
   },
   "file_extension": ".py",
   "mimetype": "text/x-python",
   "name": "python",
   "nbconvert_exporter": "python",
   "pygments_lexer": "ipython3",
   "version": "3.9.12"
  }
 },
 "nbformat": 4,
 "nbformat_minor": 5
}
